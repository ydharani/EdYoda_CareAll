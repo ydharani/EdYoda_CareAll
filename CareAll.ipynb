{
 "cells": [
  {
   "cell_type": "code",
   "execution_count": 10,
   "metadata": {},
   "outputs": [],
   "source": [
    "class Retiree:\n",
    "    def __init__(self,name,fund):\n",
    "        self.name=name\n",
    "        self.fund=fund\n",
    "        \n",
    "    def assignR(self,rate):\n",
    "        self.rate=rate\n",
    "    def assignReview(self,review):\n",
    "        self.review=review\n",
    "        \n",
    "    def selectYoung(self,young):\n",
    "        self.young=young\n",
    "        YoungCare.assignRetiree(young,self)\n",
    "        \n",
    "    def printNameOfYoungCareTacker(self):\n",
    "        print(\"My young care-tacker is \" + self.young.name)"
   ]
  },
  {
   "cell_type": "code",
   "execution_count": 11,
   "metadata": {},
   "outputs": [],
   "source": [
    "class YoungCare:\n",
    "    def __init__(self,name,price):\n",
    "        self.name=name\n",
    "        self.price=price\n",
    "        self.count=0\n",
    "        self.retiree=[]\n",
    "        \n",
    "    def assignR(self,rate):\n",
    "        self.rate=rate\n",
    "        \n",
    "    def assignReview(self,review):\n",
    "        self.review=review\n",
    "        \n",
    "    def assignRetiree(self,r):\n",
    "        if self.price > r.fund:\n",
    "            print(\"Sorry, Insufficient funds\")\n",
    "            return\n",
    "        if self.count < 4:\n",
    "            self.count+=1\n",
    "            self.retiree.append(r)\n",
    "            print(self.name + \" will now take care of you!\")\n",
    "        else:\n",
    "            print(\"Maximum Retiree limit reached! Sorry\")\n",
    "            \n",
    "    def myRetireeAssign(self):\n",
    "        print(\"Currently I am tacking care of : \")\n",
    "        for x in self.retiree:\n",
    "            print(x.name)"
   ]
  },
  {
   "cell_type": "markdown",
   "metadata": {},
   "source": [
    "# Testing the Aplication"
   ]
  },
  {
   "cell_type": "code",
   "execution_count": 12,
   "metadata": {},
   "outputs": [
    {
     "name": "stdout",
     "output_type": "stream",
     "text": [
      "Naseer will now take care of you!\n",
      "Naseer will now take care of you!\n",
      "Sorry, Insufficient funds\n",
      "Naseer will now take care of you!\n",
      "My young care-tacker is Naseer\n",
      "Currently I am tacking care of : \n",
      "Ramurthy\n",
      "Nirmala\n",
      "Roja\n",
      "Sorry, Insufficient funds\n",
      "Sorry, Insufficient funds\n"
     ]
    }
   ],
   "source": [
    "r1 = Retiree(\"Ramurthy\", 5000)\n",
    "r2 = Retiree(\"Nirmala\", 6500)\n",
    "r3 = Retiree(\"Amrutha\", 1500)\n",
    "r4 = Retiree(\"Roja\", 4000)\n",
    "r5 = Retiree(\"Viswa\", 500)\n",
    "r6 = Retiree(\"Mansoor\", 1100)\n",
    "\n",
    "yc1 = YoungCare(\"Naseer\",1600)\n",
    "r1.selectYoung(yc1)\n",
    "r2.selectYoung(yc1)\n",
    "r3.selectYoung(yc1)\n",
    "r4.selectYoung(yc1)\n",
    "\n",
    "r1.printNameOfYoungCareTacker()\n",
    "\n",
    "yc1.myRetireeAssign()\n",
    "\n",
    "r5.selectYoung(yc1)\n",
    "r6.selectYoung(yc1)"
   ]
  },
  {
   "cell_type": "code",
   "execution_count": null,
   "metadata": {},
   "outputs": [],
   "source": []
  }
 ],
 "metadata": {
  "kernelspec": {
   "display_name": "Python",
   "language": "python",
   "name": "conda-env-python-py"
  },
  "language_info": {
   "codemirror_mode": {
    "name": "ipython",
    "version": 3
   },
   "file_extension": ".py",
   "mimetype": "text/x-python",
   "name": "python",
   "nbconvert_exporter": "python",
   "pygments_lexer": "ipython3",
   "version": "3.6.7"
  }
 },
 "nbformat": 4,
 "nbformat_minor": 4
}
